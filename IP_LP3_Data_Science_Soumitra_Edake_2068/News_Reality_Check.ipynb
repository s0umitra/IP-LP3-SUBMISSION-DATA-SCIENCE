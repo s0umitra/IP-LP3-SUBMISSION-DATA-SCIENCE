{
 "cells": [
  {
   "cell_type": "markdown",
   "metadata": {},
   "source": [
    "# News Reality Check\n",
    "\n",
    "#### (Soumitra Dnyaneshwar Edake)"
   ]
  },
  {
   "cell_type": "markdown",
   "metadata": {},
   "source": [
    "### PROBLEM STATEMENT:-\n",
    "\n",
    "To build a model to accurately classify a piece of news as REAL or FAKE. Using sklearn,  build a TfidfVectorizer on the provided dataset. Then, initialize a PassiveAggressive Classifier and fit the model. In the end, the accuracy score and the confusion matrix tell us how well our model fares. On completion, create a GitHub account and create a repository. Commit your python code inside the newly created repository."
   ]
  },
  {
   "cell_type": "code",
   "execution_count": 54,
   "metadata": {},
   "outputs": [],
   "source": [
    "# imports\n",
    "import pandas as pd\n",
    "from sklearn.feature_extraction.text import TfidfVectorizer\n",
    "from sklearn.linear_model import PassiveAggressiveClassifier\n",
    "from sklearn.metrics import accuracy_score, confusion_matrix\n",
    "from sklearn.model_selection import train_test_split\n",
    "import matplotlib.pyplot as plt"
   ]
  },
  {
   "cell_type": "code",
   "execution_count": 55,
   "metadata": {},
   "outputs": [],
   "source": [
    "%matplotlib inline"
   ]
  },
  {
   "cell_type": "markdown",
   "metadata": {},
   "source": [
    "Load the dataset"
   ]
  },
  {
   "cell_type": "code",
   "execution_count": 56,
   "metadata": {},
   "outputs": [],
   "source": [
    "# Load the dataset into the dataframe df\n",
    "# read_csv() is used to ready csv files\n",
    "# All the labels, read from datasets, are stored in variable 'labels'\n",
    "df = pd.read_csv(\"news.csv\")\n",
    "labels = df.label"
   ]
  },
  {
   "cell_type": "code",
   "execution_count": 57,
   "metadata": {},
   "outputs": [
    {
     "data": {
      "text/plain": [
       "6335"
      ]
     },
     "execution_count": 57,
     "metadata": {},
     "output_type": "execute_result"
    }
   ],
   "source": [
    "len(labels)"
   ]
  },
  {
   "cell_type": "markdown",
   "metadata": {},
   "source": [
    "Split dataset for training and testing"
   ]
  },
  {
   "cell_type": "code",
   "execution_count": 58,
   "metadata": {},
   "outputs": [],
   "source": [
    "# Splitting the dataframe df in 80-20 percent.\n",
    "# 80% will be passed to training function.\n",
    "# rest 20# will be passed to testing function.\n",
    "x_train, x_test, y_train, y_test = train_test_split(df['text'], labels, test_size=0.2, random_state=7)"
   ]
  },
  {
   "cell_type": "code",
   "execution_count": 59,
   "metadata": {},
   "outputs": [
    {
     "data": {
      "image/png": "[encoded data removed]",
      "text/plain": [
       "<Figure size 432x288 with 1 Axes>"
      ]
     },
     "metadata": {
      "needs_background": "light"
     },
     "output_type": "display_data"
    }
   ],
   "source": [
    "y_values = [len(x_train), len(x_test), len(y_train), len(y_test)]\n",
    "x_labels = ['x_train', 'x_test', 'y_train', 'y_test']\n",
    "plt.title('Sets')\n",
    "plt.bar(x_labels, y_values);"
   ]
  },
  {
   "cell_type": "markdown",
   "metadata": {},
   "source": [
    "Using TfidfVectorizer"
   ]
  },
  {
   "cell_type": "code",
   "execution_count": 60,
   "metadata": {},
   "outputs": [],
   "source": [
    "# TfidfVectorizer() convert a collection of raw documents to a matrix of TF-IDF features\n",
    "# 'english' is passed to _check_stop_list which returns appropriate required stop list\n",
    "# max_df = 0.7 means \"ignore terms that appear in more than 70% of the documents\"\n",
    "vectors = TfidfVectorizer(stop_words='english', max_df=0.7)"
   ]
  },
  {
   "cell_type": "code",
   "execution_count": 61,
   "metadata": {},
   "outputs": [],
   "source": [
    "# fit_transform() learns the vocabulary and idf and returns term-document matrix\n",
    "# transform() transform documents to document-term matrix.\n",
    "t_train = vectors.fit_transform(x_train)\n",
    "t_test = vectors.transform(x_test)"
   ]
  },
  {
   "cell_type": "code",
   "execution_count": 62,
   "metadata": {},
   "outputs": [
    {
     "data": {
      "text/plain": [
       "(5068, 61651)"
      ]
     },
     "execution_count": 62,
     "metadata": {},
     "output_type": "execute_result"
    }
   ],
   "source": [
    "t_train.shape"
   ]
  },
  {
   "cell_type": "code",
   "execution_count": 63,
   "metadata": {},
   "outputs": [],
   "source": [
    "# max_iter is used to set the maximum number of passes over the training data (aka epochs)\n",
    "# fit() fits the linear model with Passive Aggressive algorithm\n",
    "pred_model = PassiveAggressiveClassifier(max_iter=50)\n",
    "pred_model.fit(t_train, y_train);"
   ]
  },
  {
   "cell_type": "code",
   "execution_count": 64,
   "metadata": {},
   "outputs": [],
   "source": [
    "# predict() predicts the class labels for samples in t_test\n",
    "# accuracy_score() is used to measure model's accuracy by passing it known values and predicted values\n",
    "y_pred = pred_model.predict(t_test)\n",
    "score = accuracy_score(y_test, y_pred);"
   ]
  },
  {
   "cell_type": "code",
   "execution_count": 65,
   "metadata": {},
   "outputs": [],
   "source": [
    "# confusion_matrix() generates confusion matrix to evaluate the accuracy of a classification\n",
    "# confusion matrix is a table with two rows and two columns that reports the number of false positives,\n",
    "# false negatives, true positives, and true negatives.\n",
    "con_mat = confusion_matrix(y_test, y_pred, labels=['FAKE', 'REAL'])"
   ]
  },
  {
   "cell_type": "code",
   "execution_count": 66,
   "metadata": {},
   "outputs": [
    {
     "name": "stdout",
     "output_type": "stream",
     "text": [
      "Accuracy : 0.9242304656669298\n",
      "Confusion Matrix:-\n",
      "[[587  51]\n",
      " [ 45 584]]\n",
      "True Positives : 587\n",
      "True Negatives : 584\n",
      "False Positives : 45\n",
      "False Negatives : 51\n"
     ]
    }
   ],
   "source": [
    "# Finally, printing out the result\n",
    "print(\"Accuracy : \" + str(score))\n",
    "print(\"Confusion Matrix:-\\n\" + str(con_mat))\n",
    "print(\"True Positives : \" + str(con_mat[0][0]) + \"\\nTrue Negatives : \" + str(con_mat[1][1]))\n",
    "print(\"False Positives : \" + str(con_mat[1][0]) + \"\\nFalse Negatives : \" + str(con_mat[0][1]))"
   ]
  },
  {
   "cell_type": "code",
   "execution_count": 67,
   "metadata": {},
   "outputs": [
    {
     "data": {
      "image/png": "[encoded data removed]",
      "text/plain": [
       "<Figure size 576x576 with 1 Axes>"
      ]
     },
     "metadata": {},
     "output_type": "display_data"
    }
   ],
   "source": [
    "labels = 'True Positives', 'True Negatives', 'False Positives', 'False Negatives'\n",
    "sizes = [con_mat[0][0], con_mat[1][1], con_mat[1][0], con_mat[0][1]]\n",
    "plt.figure(figsize=(8,8))\n",
    "plt.title('Confusion Matrix')\n",
    "plt.pie(sizes,\n",
    "      labels=labels,\n",
    "      autopct='%1.1f%%',\n",
    "      wedgeprops={\"edgecolor\":\"k\",\n",
    "                  'linewidth': 2,\n",
    "                  'antialiased': True});"
   ]
  },
  {
   "cell_type": "code",
   "execution_count": null,
   "metadata": {},
   "outputs": [],
   "source": []
  }
 ],
 "metadata": {
  "kernelspec": {
   "display_name": "Python 3",
   "language": "python",
   "name": "python3"
  },
  "language_info": {
   "codemirror_mode": {
    "name": "ipython",
    "version": 3
   },
   "file_extension": ".py",
   "mimetype": "text/x-python",
   "name": "python",
   "nbconvert_exporter": "python",
   "pygments_lexer": "ipython3",
   "version": "3.6.10"
  }
 },
 "nbformat": 4,
 "nbformat_minor": 4
}
